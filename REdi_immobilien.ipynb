{
 "cells": [
  {
   "cell_type": "code",
   "execution_count": 5,
   "id": "831c811d-7126-48c2-ad7b-0e9a1b0f4789",
   "metadata": {},
   "outputs": [],
   "source": [
    "import pandas as pd\n",
    "import numpy as np\n",
    "\n",
    "import warnings\n",
    "warnings.simplefilter(action='ignore' )\n"
   ]
  },
  {
   "cell_type": "code",
   "execution_count": 4,
   "id": "cae2b060-5b2b-4af8-af39-a852bee7ce1e",
   "metadata": {},
   "outputs": [
    {
     "data": {
      "text/html": [
       "<div>\n",
       "<style scoped>\n",
       "    .dataframe tbody tr th:only-of-type {\n",
       "        vertical-align: middle;\n",
       "    }\n",
       "\n",
       "    .dataframe tbody tr th {\n",
       "        vertical-align: top;\n",
       "    }\n",
       "\n",
       "    .dataframe thead th {\n",
       "        text-align: right;\n",
       "    }\n",
       "</style>\n",
       "<table border=\"1\" class=\"dataframe\">\n",
       "  <thead>\n",
       "    <tr style=\"text-align: right;\">\n",
       "      <th></th>\n",
       "      <th>Region</th>\n",
       "      <th>Condition</th>\n",
       "      <th>Rooms</th>\n",
       "      <th>Rent</th>\n",
       "      <th>Year_Construction</th>\n",
       "      <th>Space</th>\n",
       "    </tr>\n",
       "  </thead>\n",
       "  <tbody>\n",
       "    <tr>\n",
       "      <th>0</th>\n",
       "      <td>Mitte</td>\n",
       "      <td>first_time_use</td>\n",
       "      <td>4.0</td>\n",
       "      <td>2659.00</td>\n",
       "      <td>2019</td>\n",
       "      <td>117.20</td>\n",
       "    </tr>\n",
       "    <tr>\n",
       "      <th>1</th>\n",
       "      <td>Kreuzberg</td>\n",
       "      <td>first_time_use</td>\n",
       "      <td>1.0</td>\n",
       "      <td>1200.00</td>\n",
       "      <td>2020</td>\n",
       "      <td>29.33</td>\n",
       "    </tr>\n",
       "    <tr>\n",
       "      <th>2</th>\n",
       "      <td>Köpenick</td>\n",
       "      <td>well_kept</td>\n",
       "      <td>2.0</td>\n",
       "      <td>979.00</td>\n",
       "      <td>1997</td>\n",
       "      <td>83.61</td>\n",
       "    </tr>\n",
       "    <tr>\n",
       "      <th>3</th>\n",
       "      <td>Wilmersdorf</td>\n",
       "      <td>well_kept</td>\n",
       "      <td>4.0</td>\n",
       "      <td>1830.22</td>\n",
       "      <td>1900</td>\n",
       "      <td>171.18</td>\n",
       "    </tr>\n",
       "    <tr>\n",
       "      <th>4</th>\n",
       "      <td>Kreuzberg</td>\n",
       "      <td>first_time_use</td>\n",
       "      <td>2.0</td>\n",
       "      <td>2272.00</td>\n",
       "      <td>2020</td>\n",
       "      <td>88.27</td>\n",
       "    </tr>\n",
       "  </tbody>\n",
       "</table>\n",
       "</div>"
      ],
      "text/plain": [
       "        Region       Condition  Rooms     Rent  Year_Construction   Space\n",
       "0        Mitte  first_time_use    4.0  2659.00               2019  117.20\n",
       "1    Kreuzberg  first_time_use    1.0  1200.00               2020   29.33\n",
       "2     Köpenick       well_kept    2.0   979.00               1997   83.61\n",
       "3  Wilmersdorf       well_kept    4.0  1830.22               1900  171.18\n",
       "4    Kreuzberg  first_time_use    2.0  2272.00               2020   88.27"
      ]
     },
     "execution_count": 4,
     "metadata": {},
     "output_type": "execute_result"
    }
   ],
   "source": [
    "rentals = pd.read_csv(\"https://raw.githubusercontent.com/juliandnl/redi_ss20/master/berlin_rental.csv\")\n",
    "df = rentals.copy()\n",
    "df.head()"
   ]
  },
  {
   "cell_type": "code",
   "execution_count": 6,
   "id": "ad9688e9-89c7-4daa-85fb-08070f8e9276",
   "metadata": {},
   "outputs": [
    {
     "name": "stdout",
     "output_type": "stream",
     "text": [
      "<class 'pandas.core.frame.DataFrame'>\n",
      "RangeIndex: 764 entries, 0 to 763\n",
      "Data columns (total 6 columns):\n",
      " #   Column             Non-Null Count  Dtype  \n",
      "---  ------             --------------  -----  \n",
      " 0   Region             764 non-null    object \n",
      " 1   Condition          764 non-null    object \n",
      " 2   Rooms              764 non-null    float64\n",
      " 3   Rent               764 non-null    float64\n",
      " 4   Year_Construction  764 non-null    int64  \n",
      " 5   Space              764 non-null    float64\n",
      "dtypes: float64(3), int64(1), object(2)\n",
      "memory usage: 35.9+ KB\n"
     ]
    }
   ],
   "source": [
    "df.info()"
   ]
  },
  {
   "cell_type": "markdown",
   "id": "4cec5d5f-ea72-413c-9fa5-9b052a4f9296",
   "metadata": {},
   "source": [
    "# 1.How many apartments are there in Mitte in a 'well-kept' condition?"
   ]
  },
  {
   "cell_type": "code",
   "execution_count": 7,
   "id": "b4d15d58-6ece-47bb-a7c0-232f35cb8765",
   "metadata": {},
   "outputs": [
    {
     "data": {
      "text/html": [
       "<div>\n",
       "<style scoped>\n",
       "    .dataframe tbody tr th:only-of-type {\n",
       "        vertical-align: middle;\n",
       "    }\n",
       "\n",
       "    .dataframe tbody tr th {\n",
       "        vertical-align: top;\n",
       "    }\n",
       "\n",
       "    .dataframe thead th {\n",
       "        text-align: right;\n",
       "    }\n",
       "</style>\n",
       "<table border=\"1\" class=\"dataframe\">\n",
       "  <thead>\n",
       "    <tr style=\"text-align: right;\">\n",
       "      <th></th>\n",
       "      <th>Region</th>\n",
       "      <th>Condition</th>\n",
       "      <th>Rooms</th>\n",
       "      <th>Rent</th>\n",
       "      <th>Year_Construction</th>\n",
       "      <th>Space</th>\n",
       "    </tr>\n",
       "  </thead>\n",
       "  <tbody>\n",
       "    <tr>\n",
       "      <th>15</th>\n",
       "      <td>Mitte</td>\n",
       "      <td>well_kept</td>\n",
       "      <td>2.0</td>\n",
       "      <td>1505.60</td>\n",
       "      <td>2018</td>\n",
       "      <td>75.28</td>\n",
       "    </tr>\n",
       "    <tr>\n",
       "      <th>272</th>\n",
       "      <td>Mitte</td>\n",
       "      <td>well_kept</td>\n",
       "      <td>3.0</td>\n",
       "      <td>1639.00</td>\n",
       "      <td>2014</td>\n",
       "      <td>96.00</td>\n",
       "    </tr>\n",
       "    <tr>\n",
       "      <th>392</th>\n",
       "      <td>Mitte</td>\n",
       "      <td>well_kept</td>\n",
       "      <td>1.0</td>\n",
       "      <td>924.44</td>\n",
       "      <td>2000</td>\n",
       "      <td>61.14</td>\n",
       "    </tr>\n",
       "    <tr>\n",
       "      <th>608</th>\n",
       "      <td>Mitte</td>\n",
       "      <td>well_kept</td>\n",
       "      <td>3.0</td>\n",
       "      <td>1800.00</td>\n",
       "      <td>2013</td>\n",
       "      <td>80.95</td>\n",
       "    </tr>\n",
       "    <tr>\n",
       "      <th>735</th>\n",
       "      <td>Mitte</td>\n",
       "      <td>well_kept</td>\n",
       "      <td>2.0</td>\n",
       "      <td>1350.00</td>\n",
       "      <td>2014</td>\n",
       "      <td>68.00</td>\n",
       "    </tr>\n",
       "    <tr>\n",
       "      <th>736</th>\n",
       "      <td>Mitte</td>\n",
       "      <td>well_kept</td>\n",
       "      <td>3.0</td>\n",
       "      <td>3500.00</td>\n",
       "      <td>2009</td>\n",
       "      <td>165.00</td>\n",
       "    </tr>\n",
       "  </tbody>\n",
       "</table>\n",
       "</div>"
      ],
      "text/plain": [
       "    Region  Condition  Rooms     Rent  Year_Construction   Space\n",
       "15   Mitte  well_kept    2.0  1505.60               2018   75.28\n",
       "272  Mitte  well_kept    3.0  1639.00               2014   96.00\n",
       "392  Mitte  well_kept    1.0   924.44               2000   61.14\n",
       "608  Mitte  well_kept    3.0  1800.00               2013   80.95\n",
       "735  Mitte  well_kept    2.0  1350.00               2014   68.00\n",
       "736  Mitte  well_kept    3.0  3500.00               2009  165.00"
      ]
     },
     "execution_count": 7,
     "metadata": {},
     "output_type": "execute_result"
    }
   ],
   "source": [
    "df.loc[(df.Region == 'Mitte') & (df.Condition == 'well_kept')]"
   ]
  },
  {
   "cell_type": "markdown",
   "id": "f132ecb6-7e7c-45c0-a213-82a4f74be30d",
   "metadata": {},
   "source": [
    "# 2.How many apartments are there in Kreuzberg built before 1900?"
   ]
  },
  {
   "cell_type": "code",
   "execution_count": 9,
   "id": "8fb52b43-b5f2-4a59-8038-09df2b08b0bb",
   "metadata": {},
   "outputs": [
    {
     "data": {
      "text/html": [
       "<div>\n",
       "<style scoped>\n",
       "    .dataframe tbody tr th:only-of-type {\n",
       "        vertical-align: middle;\n",
       "    }\n",
       "\n",
       "    .dataframe tbody tr th {\n",
       "        vertical-align: top;\n",
       "    }\n",
       "\n",
       "    .dataframe thead th {\n",
       "        text-align: right;\n",
       "    }\n",
       "</style>\n",
       "<table border=\"1\" class=\"dataframe\">\n",
       "  <thead>\n",
       "    <tr style=\"text-align: right;\">\n",
       "      <th></th>\n",
       "      <th>Region</th>\n",
       "      <th>Condition</th>\n",
       "      <th>Rooms</th>\n",
       "      <th>Rent</th>\n",
       "      <th>Year_Construction</th>\n",
       "      <th>Space</th>\n",
       "    </tr>\n",
       "  </thead>\n",
       "  <tbody>\n",
       "    <tr>\n",
       "      <th>76</th>\n",
       "      <td>Kreuzberg</td>\n",
       "      <td>first_time_use</td>\n",
       "      <td>5.0</td>\n",
       "      <td>4400.0</td>\n",
       "      <td>1867</td>\n",
       "      <td>236.0</td>\n",
       "    </tr>\n",
       "    <tr>\n",
       "      <th>401</th>\n",
       "      <td>Kreuzberg</td>\n",
       "      <td>refurbished</td>\n",
       "      <td>4.0</td>\n",
       "      <td>2850.0</td>\n",
       "      <td>1895</td>\n",
       "      <td>127.0</td>\n",
       "    </tr>\n",
       "    <tr>\n",
       "      <th>697</th>\n",
       "      <td>Kreuzberg</td>\n",
       "      <td>first_time_use_after_refurbishment</td>\n",
       "      <td>2.0</td>\n",
       "      <td>1399.0</td>\n",
       "      <td>1874</td>\n",
       "      <td>50.0</td>\n",
       "    </tr>\n",
       "  </tbody>\n",
       "</table>\n",
       "</div>"
      ],
      "text/plain": [
       "        Region                           Condition  Rooms    Rent  \\\n",
       "76   Kreuzberg                      first_time_use    5.0  4400.0   \n",
       "401  Kreuzberg                         refurbished    4.0  2850.0   \n",
       "697  Kreuzberg  first_time_use_after_refurbishment    2.0  1399.0   \n",
       "\n",
       "     Year_Construction  Space  \n",
       "76                1867  236.0  \n",
       "401               1895  127.0  \n",
       "697               1874   50.0  "
      ]
     },
     "execution_count": 9,
     "metadata": {},
     "output_type": "execute_result"
    }
   ],
   "source": [
    "df.loc[(df.Region == 'Kreuzberg') & (df.Year_Construction < 1900)]"
   ]
  },
  {
   "cell_type": "markdown",
   "id": "703e0199-80c2-4637-9da0-7785a433327f",
   "metadata": {},
   "source": [
    "# 3.What are the average spaces of the apartments by the number of rooms?"
   ]
  },
  {
   "cell_type": "code",
   "execution_count": 29,
   "id": "1ec7695e-11ec-4a80-a92e-f9ac9934175d",
   "metadata": {},
   "outputs": [
    {
     "data": {
      "text/html": [
       "<div>\n",
       "<style scoped>\n",
       "    .dataframe tbody tr th:only-of-type {\n",
       "        vertical-align: middle;\n",
       "    }\n",
       "\n",
       "    .dataframe tbody tr th {\n",
       "        vertical-align: top;\n",
       "    }\n",
       "\n",
       "    .dataframe thead th {\n",
       "        text-align: right;\n",
       "    }\n",
       "</style>\n",
       "<table border=\"1\" class=\"dataframe\">\n",
       "  <thead>\n",
       "    <tr style=\"text-align: right;\">\n",
       "      <th></th>\n",
       "      <th>Space</th>\n",
       "    </tr>\n",
       "    <tr>\n",
       "      <th>Rooms</th>\n",
       "      <th></th>\n",
       "    </tr>\n",
       "  </thead>\n",
       "  <tbody>\n",
       "    <tr>\n",
       "      <th>1.0</th>\n",
       "      <td>34.470748</td>\n",
       "    </tr>\n",
       "    <tr>\n",
       "      <th>1.5</th>\n",
       "      <td>41.361111</td>\n",
       "    </tr>\n",
       "    <tr>\n",
       "      <th>2.0</th>\n",
       "      <td>65.015725</td>\n",
       "    </tr>\n",
       "    <tr>\n",
       "      <th>2.5</th>\n",
       "      <td>90.463125</td>\n",
       "    </tr>\n",
       "    <tr>\n",
       "      <th>3.0</th>\n",
       "      <td>99.403167</td>\n",
       "    </tr>\n",
       "    <tr>\n",
       "      <th>3.5</th>\n",
       "      <td>98.037500</td>\n",
       "    </tr>\n",
       "    <tr>\n",
       "      <th>4.0</th>\n",
       "      <td>130.863333</td>\n",
       "    </tr>\n",
       "    <tr>\n",
       "      <th>4.5</th>\n",
       "      <td>106.100000</td>\n",
       "    </tr>\n",
       "    <tr>\n",
       "      <th>5.0</th>\n",
       "      <td>194.400526</td>\n",
       "    </tr>\n",
       "    <tr>\n",
       "      <th>6.0</th>\n",
       "      <td>237.000000</td>\n",
       "    </tr>\n",
       "    <tr>\n",
       "      <th>7.0</th>\n",
       "      <td>251.000000</td>\n",
       "    </tr>\n",
       "  </tbody>\n",
       "</table>\n",
       "</div>"
      ],
      "text/plain": [
       "            Space\n",
       "Rooms            \n",
       "1.0     34.470748\n",
       "1.5     41.361111\n",
       "2.0     65.015725\n",
       "2.5     90.463125\n",
       "3.0     99.403167\n",
       "3.5     98.037500\n",
       "4.0    130.863333\n",
       "4.5    106.100000\n",
       "5.0    194.400526\n",
       "6.0    237.000000\n",
       "7.0    251.000000"
      ]
     },
     "execution_count": 29,
     "metadata": {},
     "output_type": "execute_result"
    }
   ],
   "source": [
    "#df.groupby('Rooms')[['Space']].mean().round()\n",
    "df.groupby('Rooms')[['Space']].mean()"
   ]
  },
  {
   "cell_type": "markdown",
   "id": "089dd94d-0330-40be-9366-e06d06a12be4",
   "metadata": {},
   "source": [
    "# 4.Which is the most expensive region on average and what is the maximum rent for this region?"
   ]
  },
  {
   "cell_type": "code",
   "execution_count": 30,
   "id": "89b74b01-e119-429d-9084-74b431293e76",
   "metadata": {},
   "outputs": [
    {
     "data": {
      "text/html": [
       "<div>\n",
       "<style scoped>\n",
       "    .dataframe tbody tr th:only-of-type {\n",
       "        vertical-align: middle;\n",
       "    }\n",
       "\n",
       "    .dataframe tbody tr th {\n",
       "        vertical-align: top;\n",
       "    }\n",
       "\n",
       "    .dataframe thead th {\n",
       "        text-align: right;\n",
       "    }\n",
       "</style>\n",
       "<table border=\"1\" class=\"dataframe\">\n",
       "  <thead>\n",
       "    <tr style=\"text-align: right;\">\n",
       "      <th></th>\n",
       "      <th>Rent</th>\n",
       "    </tr>\n",
       "    <tr>\n",
       "      <th>Region</th>\n",
       "      <th></th>\n",
       "    </tr>\n",
       "  </thead>\n",
       "  <tbody>\n",
       "    <tr>\n",
       "      <th>Mitte</th>\n",
       "      <td>2408.73</td>\n",
       "    </tr>\n",
       "    <tr>\n",
       "      <th>Kreuzberg</th>\n",
       "      <td>2049.14</td>\n",
       "    </tr>\n",
       "    <tr>\n",
       "      <th>Prenzlauer</th>\n",
       "      <td>1996.96</td>\n",
       "    </tr>\n",
       "    <tr>\n",
       "      <th>Tiergarten</th>\n",
       "      <td>1914.82</td>\n",
       "    </tr>\n",
       "    <tr>\n",
       "      <th>Charlottenburg</th>\n",
       "      <td>1753.45</td>\n",
       "    </tr>\n",
       "    <tr>\n",
       "      <th>Wilmersdorf</th>\n",
       "      <td>1748.65</td>\n",
       "    </tr>\n",
       "    <tr>\n",
       "      <th>Neukölln</th>\n",
       "      <td>1188.11</td>\n",
       "    </tr>\n",
       "    <tr>\n",
       "      <th>Köpenick</th>\n",
       "      <td>1125.48</td>\n",
       "    </tr>\n",
       "    <tr>\n",
       "      <th>Friedrichsfelde</th>\n",
       "      <td>1043.87</td>\n",
       "    </tr>\n",
       "    <tr>\n",
       "      <th>Wedding</th>\n",
       "      <td>847.14</td>\n",
       "    </tr>\n",
       "  </tbody>\n",
       "</table>\n",
       "</div>"
      ],
      "text/plain": [
       "                    Rent\n",
       "Region                  \n",
       "Mitte            2408.73\n",
       "Kreuzberg        2049.14\n",
       "Prenzlauer       1996.96\n",
       "Tiergarten       1914.82\n",
       "Charlottenburg   1753.45\n",
       "Wilmersdorf      1748.65\n",
       "Neukölln         1188.11\n",
       "Köpenick         1125.48\n",
       "Friedrichsfelde  1043.87\n",
       "Wedding           847.14"
      ]
     },
     "execution_count": 30,
     "metadata": {},
     "output_type": "execute_result"
    }
   ],
   "source": [
    "df.groupby('Region')[['Rent']].mean().sort_values('Rent', ascending=False).round(2)"
   ]
  },
  {
   "cell_type": "code",
   "execution_count": 17,
   "id": "5ea1a105-16b1-4468-85e0-72658c4a7445",
   "metadata": {},
   "outputs": [
    {
     "data": {
      "text/plain": [
       "14207.0"
      ]
     },
     "execution_count": 17,
     "metadata": {},
     "output_type": "execute_result"
    }
   ],
   "source": [
    "df.loc[df.Region == 'Mitte', 'Rent'].max()"
   ]
  },
  {
   "cell_type": "code",
   "execution_count": 20,
   "id": "4ab2ffeb-187a-4da2-8672-bc773d485855",
   "metadata": {},
   "outputs": [
    {
     "data": {
      "text/plain": [
       "694    14207.00\n",
       "281     6855.48\n",
       "653     6022.50\n",
       "591     5936.40\n",
       "590     5936.40\n",
       "         ...   \n",
       "66       889.00\n",
       "751      770.00\n",
       "26       715.00\n",
       "730      655.00\n",
       "607      398.00\n",
       "Name: Rent, Length: 153, dtype: float64"
      ]
     },
     "execution_count": 20,
     "metadata": {},
     "output_type": "execute_result"
    }
   ],
   "source": [
    "df.loc[df.Region == 'Mitte', 'Rent'].sort_values(ascending= False)"
   ]
  },
  {
   "cell_type": "code",
   "execution_count": 22,
   "id": "b6720ec3-f941-441b-9f2f-f37f7bf23206",
   "metadata": {},
   "outputs": [
    {
     "data": {
      "text/html": [
       "<div>\n",
       "<style scoped>\n",
       "    .dataframe tbody tr th:only-of-type {\n",
       "        vertical-align: middle;\n",
       "    }\n",
       "\n",
       "    .dataframe tbody tr th {\n",
       "        vertical-align: top;\n",
       "    }\n",
       "\n",
       "    .dataframe thead th {\n",
       "        text-align: right;\n",
       "    }\n",
       "</style>\n",
       "<table border=\"1\" class=\"dataframe\">\n",
       "  <thead>\n",
       "    <tr style=\"text-align: right;\">\n",
       "      <th></th>\n",
       "      <th>Region</th>\n",
       "      <th>Condition</th>\n",
       "      <th>Rooms</th>\n",
       "      <th>Rent</th>\n",
       "      <th>Year_Construction</th>\n",
       "      <th>Space</th>\n",
       "    </tr>\n",
       "  </thead>\n",
       "  <tbody>\n",
       "    <tr>\n",
       "      <th>694</th>\n",
       "      <td>Mitte</td>\n",
       "      <td>mint_condition</td>\n",
       "      <td>5.0</td>\n",
       "      <td>14207.0</td>\n",
       "      <td>2015</td>\n",
       "      <td>413.91</td>\n",
       "    </tr>\n",
       "  </tbody>\n",
       "</table>\n",
       "</div>"
      ],
      "text/plain": [
       "    Region       Condition  Rooms     Rent  Year_Construction   Space\n",
       "694  Mitte  mint_condition    5.0  14207.0               2015  413.91"
      ]
     },
     "execution_count": 22,
     "metadata": {},
     "output_type": "execute_result"
    }
   ],
   "source": [
    "df.query('Rent==14207')"
   ]
  },
  {
   "cell_type": "markdown",
   "id": "318dd2e4-883f-48c8-b7d5-268b6bb63b41",
   "metadata": {},
   "source": [
    "# Bonus Question: 5. What are the min, max and average number of rooms of the apartments in Köpenick?"
   ]
  },
  {
   "cell_type": "code",
   "execution_count": 31,
   "id": "1bdcf0a8-8c8a-40bb-8aef-312b00ac050a",
   "metadata": {},
   "outputs": [
    {
     "data": {
      "text/plain": [
       "min     1.000000\n",
       "max     4.000000\n",
       "mean    2.281818\n",
       "Name: Rooms, dtype: float64"
      ]
     },
     "execution_count": 31,
     "metadata": {},
     "output_type": "execute_result"
    }
   ],
   "source": [
    "#df.loc[df.Region == 'Köpenick', 'Rooms'].describe()[['min', 'max', 'mean']]\n",
    "df.loc[df.Region == 'Köpenick', 'Rooms'].describe()[[3,7,1]]"
   ]
  },
  {
   "cell_type": "code",
   "execution_count": null,
   "id": "46195591-f2bd-4246-ab44-b9a9dcf53ed5",
   "metadata": {},
   "outputs": [],
   "source": []
  },
  {
   "cell_type": "code",
   "execution_count": null,
   "id": "635e99b3-d5c6-4645-8939-d2840df79b9b",
   "metadata": {},
   "outputs": [],
   "source": []
  },
  {
   "cell_type": "code",
   "execution_count": null,
   "id": "3cb16d8c-f880-467d-9d74-d6b0ec1ed383",
   "metadata": {},
   "outputs": [],
   "source": []
  }
 ],
 "metadata": {
  "kernelspec": {
   "display_name": "Python 3 (ipykernel)",
   "language": "python",
   "name": "python3"
  },
  "language_info": {
   "codemirror_mode": {
    "name": "ipython",
    "version": 3
   },
   "file_extension": ".py",
   "mimetype": "text/x-python",
   "name": "python",
   "nbconvert_exporter": "python",
   "pygments_lexer": "ipython3",
   "version": "3.9.12"
  },
  "toc-autonumbering": true
 },
 "nbformat": 4,
 "nbformat_minor": 5
}
